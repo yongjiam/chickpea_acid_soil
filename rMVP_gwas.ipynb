{
 "cells": [
  {
   "cell_type": "code",
   "execution_count": 1,
   "id": "bdcd92d0",
   "metadata": {},
   "outputs": [
    {
     "name": "stderr",
     "output_type": "stream",
     "text": [
      "Full description, Bug report, Suggestion and the latest version:\n",
      "\n",
      "https://github.com/xiaolei-lab/rMVP\n",
      "\n"
     ]
    }
   ],
   "source": [
    "library(rMVP)"
   ]
  },
  {
   "cell_type": "code",
   "execution_count": 47,
   "id": "d4a14743",
   "metadata": {},
   "outputs": [],
   "source": [
    "?MVP"
   ]
  },
  {
   "cell_type": "code",
   "execution_count": 60,
   "id": "ea37d9a0",
   "metadata": {},
   "outputs": [
    {
     "name": "stdout",
     "output_type": "stream",
     "text": [
      "Preparing data for MVP...\n",
      "Reading file...\n",
      "inds: 159\tmarkers:4290\n",
      "Preparation for GENOTYPE data is done within 0s \n"
     ]
    },
    {
     "name": "stderr",
     "output_type": "stream",
     "text": [
      "No NA in genotype, imputation has been skipped.\n",
      "\n"
     ]
    },
    {
     "name": "stdout",
     "output_type": "stream",
     "text": [
      "MVP data prepration accomplished successfully!\n"
     ]
    }
   ],
   "source": [
    "# Full-featured function (Recommended)\n",
    "MVP.Data(fileVCF=\"HTRCxCDB22C_noG3.genotype\",\n",
    "         #filePhe=\"Phenotype.txt\",\n",
    "         fileKin=FALSE,\n",
    "         filePC=FALSE,\n",
    "         out=\"mvp_HTRCxCDB22C_noG3.vcf\"\n",
    "         )"
   ]
  },
  {
   "cell_type": "code",
   "execution_count": 61,
   "id": "f1dda9ba",
   "metadata": {},
   "outputs": [],
   "source": [
    "genotype <- attach.big.matrix(\"mvp_HTRCxCDB22C_noG3.vcf.geno.desc\")\n",
    "phenotype <- read.table(\"HTRCxCDB22C_noG3_zscore.phenotype\",head=TRUE)\n",
    "map <- read.table(\"mvp_HTRCxCDB22C_noG3.vcf.geno.map\" , head = TRUE)\n",
    "#Kinship <- attach.big.matrix(\"mvp_all.vcf.kin.desc\")"
   ]
  },
  {
   "cell_type": "code",
   "execution_count": 49,
   "id": "39819d29",
   "metadata": {},
   "outputs": [
    {
     "name": "stdout",
     "output_type": "stream",
     "text": [
      "Calculate KINSHIP using Vanraden method... \n",
      "Computing GRM under mode: Speed\n",
      "Scale the genotype matrix\n",
      "Computing Z'Z\n",
      "Deriving relationship matrix successfully \n",
      "Preparation for Kinship matrix is done! \n"
     ]
    },
    {
     "data": {
      "text/plain": [
       "An object of class \"big.matrix\"\n",
       "Slot \"address\":\n",
       "<pointer: 0x7fc791a205b0>\n"
      ]
     },
     "metadata": {},
     "output_type": "display_data"
    }
   ],
   "source": [
    "# calculate from mvp_geno_file\n",
    "MVP.Data.Kin(TRUE, mvp_prefix='mvp_all.vcf', out='mvp_all.vcf')"
   ]
  },
  {
   "cell_type": "code",
   "execution_count": 62,
   "id": "63845b04",
   "metadata": {},
   "outputs": [
    {
     "name": "stdout",
     "output_type": "stream",
     "text": [
      "====================== Welcome to MVP ======================\n",
      "      A Memory-efficient, Visualization-enhanced, and       \n",
      "             Parallel-accelerated Tool For GWAS             \n",
      "                    __  __  __   __  ___                    \n",
      "                   |  \\/  | \\ \\ / / | _ \\                   \n",
      "                   | |\\/| |  \\ V /  |  _/                   \n",
      "                   |_|  |_|   \\_/   |_|     Version: 1.0.6  \n",
      "  Designed and Maintained by Lilin Yin, Haohao Zhang, and   \n",
      "  Xiaolei Liu                                               \n",
      "  Contributors: Zhenshuang Tang, Jingya Xu, Dong Yin,       \n",
      "  Zhiwu Zhang, Xiaohui Yuan, Mengjin Zhu, Shuhong Zhao,     \n",
      "  Xinyun Li                                                 \n",
      "  Contact: xiaoleiliu@mail.hzau.edu.cn                      \n",
      "============================================================\n",
      "Start: 2023-03-19 17:31:45 \n",
      "The log has been output to the file: /Users/yongjia/Library/CloudStorage/Dropbox/chickpea_genotyping/gwas/MVP.20230319_173145.log \n",
      "Input data has 159 individuals, 4290 markers \n",
      "Analyzed trait: mean_T0 \n",
      "Number of threads used: 6 \n",
      "Computing GRM under mode: Speed\n",
      "Scale the genotype matrix\n",
      "Computing Z'Z\n",
      "Deriving relationship matrix successfully \n",
      "Eigen Decomposition on GRM \n",
      "Deriving PCs successfully \n",
      "Number of PCs included in GLM: 5 \n",
      "Number of PCs included in MLM: 3 \n",
      "Number of PCs included in FarmCPU: 3 \n",
      "-------------------------GWAS Start------------------------- \n",
      "General Linear Model (GLM) Start... \n",
      "scanning...\n",
      "Genomic inflation factor (lambda): 1.7368 \n",
      "Writing results to local file \n",
      "Mixed Linear Model (MLM) Start... \n",
      "Variance components using: BRENT \n",
      "Estimated Vg and Ve: 0.271420 0.526067 \n",
      "scanning...\n",
      "Genomic inflation factor (lambda): 1.1995 \n",
      "Writing results to local file \n",
      "FarmCPU Start... \n",
      "Current loop: 1 out of maximum of 10 \n",
      "seqQTN: \n",
      "NULL \n",
      "number of covariates in current loop is: \n",
      "3 \n",
      "scanning... \n",
      "Current loop: 2 out of maximum of 10 \n",
      "Optimizing Pseudo QTNs... \n",
      "Top snps have little effect, set seqQTN to NULL! \n",
      "Genomic inflation factor (lambda): 1.7359 \n",
      "Writing results to local file \n",
      "Significant level: 1.17e-05 \n",
      "---------------------Visualization Start-------------------- \n",
      "Phenotype distribution Plotting \n",
      "PCA plot2d \n",
      "SNP_Density Plotting \n",
      "Circular_Manhattan Plotting mean_T0.GLM \n",
      "Circular_Manhattan Plotting mean_T0.MLM \n",
      "Circular_Manhattan Plotting mean_T0.FarmCPU \n",
      "Rectangular_Manhattan Plotting mean_T0.GLM \n",
      "Rectangular_Manhattan Plotting mean_T0.MLM \n",
      "Rectangular_Manhattan Plotting mean_T0.FarmCPU \n",
      "Q_Q Plotting mean_T0.GLM \n",
      "Q_Q Plotting mean_T0.MLM \n",
      "Q_Q Plotting mean_T0.FarmCPU \n",
      "Multracks_Rectangular Plotting mean_T0.GLM \n",
      "Multracks_Rectangular Plotting mean_T0.MLM \n",
      "Multracks_Rectangular Plotting mean_T0.FarmCPU \n",
      "Multraits_Rectangular Plotting...(finished 100%)\n",
      "Multracks_QQ Plotting mean_T0.GLM \n",
      "Multracks_QQ Plotting mean_T0.MLM \n",
      "Multracks_QQ Plotting mean_T0.FarmCPU \n",
      "Multraits_QQ Plotting mean_T0.GLM \n",
      "Multraits_QQ Plotting mean_T0.MLM \n",
      "Multraits_QQ Plotting mean_T0.FarmCPU \n",
      "Results are stored at Working Directory: /Users/yongjia/Library/CloudStorage/Dropbox/chickpea_genotyping/gwas \n",
      "End: 2023-03-19 17:31:49 \n",
      "===================== MVP ACCOMPLISHED ===================== \n",
      "====================== Welcome to MVP ======================\n",
      "      A Memory-efficient, Visualization-enhanced, and       \n",
      "             Parallel-accelerated Tool For GWAS             \n",
      "                    __  __  __   __  ___                    \n",
      "                   |  \\/  | \\ \\ / / | _ \\                   \n",
      "                   | |\\/| |  \\ V /  |  _/                   \n",
      "                   |_|  |_|   \\_/   |_|     Version: 1.0.6  \n",
      "  Designed and Maintained by Lilin Yin, Haohao Zhang, and   \n",
      "  Xiaolei Liu                                               \n",
      "  Contributors: Zhenshuang Tang, Jingya Xu, Dong Yin,       \n",
      "  Zhiwu Zhang, Xiaohui Yuan, Mengjin Zhu, Shuhong Zhao,     \n",
      "  Xinyun Li                                                 \n",
      "  Contact: xiaoleiliu@mail.hzau.edu.cn                      \n",
      "============================================================\n",
      "Start: 2023-03-19 17:31:49 \n",
      "The log has been output to the file: /Users/yongjia/Library/CloudStorage/Dropbox/chickpea_genotyping/gwas/MVP.20230319_173149.log \n",
      "Input data has 159 individuals, 4290 markers \n",
      "Analyzed trait: mean_T1 \n",
      "Number of threads used: 6 \n",
      "Computing GRM under mode: Speed\n",
      "Scale the genotype matrix\n",
      "Computing Z'Z\n",
      "Deriving relationship matrix successfully \n",
      "Eigen Decomposition on GRM \n",
      "Deriving PCs successfully \n",
      "Number of PCs included in GLM: 5 \n",
      "Number of PCs included in MLM: 3 \n",
      "Number of PCs included in FarmCPU: 3 \n",
      "-------------------------GWAS Start------------------------- \n",
      "General Linear Model (GLM) Start... \n",
      "scanning...\n",
      "Genomic inflation factor (lambda): 1.3669 \n",
      "Writing results to local file \n",
      "Mixed Linear Model (MLM) Start... \n",
      "Variance components using: BRENT \n",
      "Estimated Vg and Ve: 0.119668 0.466138 \n",
      "scanning...\n",
      "Genomic inflation factor (lambda): 1.2115 \n",
      "Writing results to local file \n",
      "FarmCPU Start... \n",
      "Current loop: 1 out of maximum of 10 \n",
      "seqQTN: \n",
      "NULL \n",
      "number of covariates in current loop is: \n",
      "3 \n",
      "scanning... \n",
      "Current loop: 2 out of maximum of 10 \n",
      "Optimizing Pseudo QTNs... \n",
      "Top snps have little effect, set seqQTN to NULL! \n",
      "Genomic inflation factor (lambda): 2.6323 \n",
      "Writing results to local file \n",
      "Significant level: 1.17e-05 \n",
      "---------------------Visualization Start-------------------- \n",
      "Phenotype distribution Plotting \n",
      "PCA plot2d \n",
      "SNP_Density Plotting \n",
      "Circular_Manhattan Plotting mean_T1.GLM \n",
      "Circular_Manhattan Plotting mean_T1.MLM \n",
      "Circular_Manhattan Plotting mean_T1.FarmCPU \n",
      "Rectangular_Manhattan Plotting mean_T1.GLM \n",
      "Rectangular_Manhattan Plotting mean_T1.MLM \n",
      "Rectangular_Manhattan Plotting mean_T1.FarmCPU \n",
      "Q_Q Plotting mean_T1.GLM \n",
      "Q_Q Plotting mean_T1.MLM \n",
      "Q_Q Plotting mean_T1.FarmCPU \n",
      "Multracks_Rectangular Plotting mean_T1.GLM \n",
      "Multracks_Rectangular Plotting mean_T1.MLM \n",
      "Multracks_Rectangular Plotting mean_T1.FarmCPU \n",
      "Multraits_Rectangular Plotting...(finished 100%)\n",
      "Multracks_QQ Plotting mean_T1.GLM \n",
      "Multracks_QQ Plotting mean_T1.MLM \n",
      "Multracks_QQ Plotting mean_T1.FarmCPU \n",
      "Multraits_QQ Plotting mean_T1.GLM \n",
      "Multraits_QQ Plotting mean_T1.MLM \n",
      "Multraits_QQ Plotting mean_T1.FarmCPU \n",
      "Results are stored at Working Directory: /Users/yongjia/Library/CloudStorage/Dropbox/chickpea_genotyping/gwas \n",
      "End: 2023-03-19 17:31:54 \n",
      "===================== MVP ACCOMPLISHED ===================== \n",
      "====================== Welcome to MVP ======================\n",
      "      A Memory-efficient, Visualization-enhanced, and       \n",
      "             Parallel-accelerated Tool For GWAS             \n",
      "                    __  __  __   __  ___                    \n",
      "                   |  \\/  | \\ \\ / / | _ \\                   \n",
      "                   | |\\/| |  \\ V /  |  _/                   \n",
      "                   |_|  |_|   \\_/   |_|     Version: 1.0.6  \n",
      "  Designed and Maintained by Lilin Yin, Haohao Zhang, and   \n",
      "  Xiaolei Liu                                               \n",
      "  Contributors: Zhenshuang Tang, Jingya Xu, Dong Yin,       \n",
      "  Zhiwu Zhang, Xiaohui Yuan, Mengjin Zhu, Shuhong Zhao,     \n",
      "  Xinyun Li                                                 \n",
      "  Contact: xiaoleiliu@mail.hzau.edu.cn                      \n",
      "============================================================\n",
      "Start: 2023-03-19 17:31:54 \n",
      "The log has been output to the file: /Users/yongjia/Library/CloudStorage/Dropbox/chickpea_genotyping/gwas/MVP.20230319_173154.log \n",
      "Input data has 159 individuals, 4290 markers \n",
      "Analyzed trait: RTI \n",
      "Number of threads used: 6 \n",
      "Computing GRM under mode: Speed\n",
      "Scale the genotype matrix\n",
      "Computing Z'Z\n",
      "Deriving relationship matrix successfully \n",
      "Eigen Decomposition on GRM \n",
      "Deriving PCs successfully \n",
      "Number of PCs included in GLM: 5 \n",
      "Number of PCs included in MLM: 3 \n",
      "Number of PCs included in FarmCPU: 3 \n",
      "-------------------------GWAS Start------------------------- \n",
      "General Linear Model (GLM) Start... \n",
      "scanning...\n",
      "Genomic inflation factor (lambda): 1.4323 \n",
      "Writing results to local file \n",
      "Mixed Linear Model (MLM) Start... \n",
      "Variance components using: BRENT \n",
      "Estimated Vg and Ve: 0.106890 0.745060 \n",
      "scanning...\n",
      "Genomic inflation factor (lambda): 1.192 \n",
      "Writing results to local file \n",
      "FarmCPU Start... \n",
      "Current loop: 1 out of maximum of 10 \n",
      "seqQTN: \n",
      "NULL \n",
      "number of covariates in current loop is: \n",
      "3 \n",
      "scanning... \n",
      "Current loop: 2 out of maximum of 10 \n",
      "Optimizing Pseudo QTNs... \n",
      "seqQTN: \n",
      "209 2764 1089 2053 \n",
      "number of covariates in current loop is: \n",
      "7 \n",
      "scanning... \n",
      "Current loop: 3 out of maximum of 10 \n",
      "Optimizing Pseudo QTNs... \n",
      "seqQTN: \n",
      "209 2764 1089 1424 441 2053 \n",
      "number of covariates in current loop is: \n",
      "9 \n",
      "scanning... \n",
      "Current loop: 4 out of maximum of 10 \n",
      "Optimizing Pseudo QTNs... \n",
      "seqQTN: \n",
      "209 2764 1424 441 1089 2053 \n",
      "number of covariates in current loop is: \n",
      "9 \n",
      "scanning... \n",
      "Genomic inflation factor (lambda): 0.8373 \n",
      "Writing results to local file \n",
      "Significant level: 1.17e-05 \n",
      "---------------------Visualization Start-------------------- \n",
      "Phenotype distribution Plotting \n"
     ]
    },
    {
     "name": "stdout",
     "output_type": "stream",
     "text": [
      "PCA plot2d \n",
      "SNP_Density Plotting \n",
      "Circular_Manhattan Plotting RTI.GLM \n",
      "Circular_Manhattan Plotting RTI.MLM \n",
      "Circular_Manhattan Plotting RTI.FarmCPU \n",
      "Rectangular_Manhattan Plotting RTI.GLM \n",
      "Rectangular_Manhattan Plotting RTI.MLM \n",
      "Rectangular_Manhattan Plotting RTI.FarmCPU \n",
      "Q_Q Plotting RTI.GLM \n",
      "Q_Q Plotting RTI.MLM \n",
      "Q_Q Plotting RTI.FarmCPU \n",
      "Multracks_Rectangular Plotting RTI.GLM \n",
      "Multracks_Rectangular Plotting RTI.MLM \n",
      "Multracks_Rectangular Plotting RTI.FarmCPU \n",
      "Multraits_Rectangular Plotting...(finished 100%)\n",
      "Multracks_QQ Plotting RTI.GLM \n",
      "Multracks_QQ Plotting RTI.MLM \n",
      "Multracks_QQ Plotting RTI.FarmCPU \n",
      "Multraits_QQ Plotting RTI.GLM \n",
      "Multraits_QQ Plotting RTI.MLM \n",
      "Multraits_QQ Plotting RTI.FarmCPU \n",
      "Results are stored at Working Directory: /Users/yongjia/Library/CloudStorage/Dropbox/chickpea_genotyping/gwas \n",
      "End: 2023-03-19 17:31:59 \n",
      "===================== MVP ACCOMPLISHED ===================== \n"
     ]
    }
   ],
   "source": [
    "for(i in 2:ncol(phenotype)){\n",
    "  imMVP <- MVP(\n",
    "    phe=phenotype[, c(1, i)],\n",
    "    geno=genotype,\n",
    "    map=map,\n",
    "    #K=Kinship,\n",
    "    #CV.GLM=Covariates,\n",
    "    #CV.MLM=Covariates,\n",
    "    #CV.FarmCPU=Covariates,\n",
    "    nPC.GLM=5,\n",
    "    nPC.MLM=3,\n",
    "    nPC.FarmCPU=3,\n",
    "    priority=\"speed\",\n",
    "    #ncpus=10,\n",
    "    vc.method=\"BRENT\",\n",
    "    maxLoop=10,\n",
    "    method.bin=\"static\",\n",
    "    #permutation.threshold=TRUE,\n",
    "    #permutation.rep=100,\n",
    "    threshold=0.05,\n",
    "    method=c(\"GLM\", \"MLM\", \"FarmCPU\"),\n",
    "    #file.output=c(\"pmap\", \"pmap.signal\", \"plot\", \"log\")\n",
    "    file.output=TRUE\n",
    "  )\n",
    "  gc()\n",
    "}"
   ]
  },
  {
   "cell_type": "code",
   "execution_count": 5,
   "id": "3b6a38f6",
   "metadata": {},
   "outputs": [
    {
     "name": "stdout",
     "output_type": "stream",
     "text": [
      "[1] 127   4\n"
     ]
    }
   ],
   "source": [
    "print(dim(phenotype))"
   ]
  },
  {
   "cell_type": "code",
   "execution_count": 6,
   "id": "48983891",
   "metadata": {},
   "outputs": [
    {
     "name": "stdout",
     "output_type": "stream",
     "text": [
      "[1] 4290  127\n"
     ]
    }
   ],
   "source": [
    "print(dim(genotype))"
   ]
  }
 ],
 "metadata": {
  "kernelspec": {
   "display_name": "R",
   "language": "R",
   "name": "ir"
  },
  "language_info": {
   "codemirror_mode": "r",
   "file_extension": ".r",
   "mimetype": "text/x-r-source",
   "name": "R",
   "pygments_lexer": "r",
   "version": "4.2.3"
  }
 },
 "nbformat": 4,
 "nbformat_minor": 5
}
